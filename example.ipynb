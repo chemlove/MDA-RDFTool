{
 "cells": [
  {
   "cell_type": "markdown",
   "metadata": {},
   "source": [
    "# Making RDFs\n",
    "\n",
    "This notebook demonstrates how to build an intermolecular RDF using tools built upon MDAnalysis.\n",
    "\n",
    "Requirements:\n",
    " - MDAnalysis version 0.10.0\n",
    " - numpy"
   ]
  },
  {
   "cell_type": "code",
   "execution_count": 1,
   "metadata": {
    "collapsed": false
   },
   "outputs": [],
   "source": [
    "# Imports of required packages\n",
    "from rdftool import InterRDF\n",
    "import MDAnalysis as mda\n",
    "%matplotlib inline\n",
    "import matplotlib.pyplot as plt"
   ]
  },
  {
   "cell_type": "markdown",
   "metadata": {},
   "source": [
    "Firstly, let's load up a Universe and inspect what we have in our system.  The test system here is a single frame of octanol."
   ]
  },
  {
   "cell_type": "code",
   "execution_count": 2,
   "metadata": {
    "collapsed": false
   },
   "outputs": [
    {
     "name": "stdout",
     "output_type": "stream",
     "text": [
      "<Universe with 13824 atoms>\n",
      "1\n",
      "set(['HH3', 'HH2', 'HH1', 'HO', 'HC2', 'HC1', 'HE1', 'HE2', 'HG2', 'HG1', 'HA1', 'HA2', 'CH', 'CC', 'CB', 'CA', 'CG', 'CF', 'CE', 'CD', 'HD2', 'HD1', 'OH', 'HF1', 'HF2', 'HB1', 'HB2'])\n",
      "set(['H', 'C', 'O'])\n"
     ]
    }
   ],
   "source": [
    "u = mda.Universe('conf.gro')\n",
    "print u\n",
    "print len(u.trajectory)\n",
    "print set(u.atoms.names())\n",
    "print set(u.atoms.types())"
   ]
  },
  {
   "cell_type": "markdown",
   "metadata": {},
   "source": [
    "## Making selections\n",
    "\n",
    "To make the RDF, we want to select two different species to calculate the distribution of pairwise distances between.  We will do this based upon the atom's name.\n",
    "\n",
    "This gives us 2 AtomGroups, both with 512 atoms in."
   ]
  },
  {
   "cell_type": "code",
   "execution_count": 3,
   "metadata": {
    "collapsed": false
   },
   "outputs": [
    {
     "name": "stdout",
     "output_type": "stream",
     "text": [
      "512\n",
      "512\n"
     ]
    }
   ],
   "source": [
    "oxygen = u.selectAtoms('name HO')\n",
    "hydrogen = u.selectAtoms('name HO')\n",
    "\n",
    "print len(oxygen)\n",
    "print len(hydrogen)"
   ]
  },
  {
   "cell_type": "markdown",
   "metadata": {},
   "source": [
    "Next we create an RDF making object, and pass it our two AtomGroup selections"
   ]
  },
  {
   "cell_type": "code",
   "execution_count": 4,
   "metadata": {
    "collapsed": true
   },
   "outputs": [],
   "source": [
    "rdf = InterRDF(oxygen, hydrogen, bins=50, range=(0.0, 12.0))"
   ]
  },
  {
   "cell_type": "code",
   "execution_count": 5,
   "metadata": {
    "collapsed": false
   },
   "outputs": [
    {
     "name": "stdout",
     "output_type": "stream",
     "text": [
      "Doing frame 0 of 0\n"
     ]
    }
   ],
   "source": [
    "rdf.run()"
   ]
  },
  {
   "cell_type": "code",
   "execution_count": 6,
   "metadata": {
    "collapsed": false
   },
   "outputs": [
    {
     "data": {
      "text/plain": [
       "[<matplotlib.lines.Line2D at 0x7f9fb78dd5d0>]"
      ]
     },
     "execution_count": 6,
     "metadata": {},
     "output_type": "execute_result"
    },
    {
     "data": {
      "image/png": "[encoded data removed]",
      "text/plain": [
       "<matplotlib.figure.Figure at 0x7f9fb7fd0cd0>"
      ]
     },
     "metadata": {},
     "output_type": "display_data"
    }
   ],
   "source": [
    "plt.plot(rdf.bins, rdf.rdf)"
   ]
  },
  {
   "cell_type": "markdown",
   "metadata": {},
   "source": [
    "Oops, that didn't work.  We've got a single huge peak at an incredibly small distance which obscures everything.  This is caused by the OH and HO bonded pairs which are being included.\n",
    "\n",
    "These can be excluded using the \"exclusion_block\" keyword."
   ]
  },
  {
   "cell_type": "code",
   "execution_count": 7,
   "metadata": {
    "collapsed": false
   },
   "outputs": [
    {
     "name": "stdout",
     "output_type": "stream",
     "text": [
      "Doing frame 0 of 0\n"
     ]
    }
   ],
   "source": [
    "rdf = InterRDF(oxygen, hydrogen, bins=50, range=(0.0, 12.0), exclusion_block=(1,1))\n",
    "rdf.run()"
   ]
  },
  {
   "cell_type": "code",
   "execution_count": 8,
   "metadata": {
    "collapsed": false
   },
   "outputs": [
    {
     "data": {
      "text/plain": [
       "[<matplotlib.lines.Line2D at 0x7f9fb77d5050>]"
      ]
     },
     "execution_count": 8,
     "metadata": {},
     "output_type": "execute_result"
    },
    {
     "data": {
      "image/png": "[encoded data removed]",
      "text/plain": [
       "<matplotlib.figure.Figure at 0x7f9fb783a650>"
      ]
     },
     "metadata": {},
     "output_type": "display_data"
    }
   ],
   "source": [
    "plt.plot(rdf.bins, rdf.rdf)"
   ]
  },
  {
   "cell_type": "code",
   "execution_count": null,
   "metadata": {
    "collapsed": true
   },
   "outputs": [],
   "source": []
  },
  {
   "cell_type": "code",
   "execution_count": null,
   "metadata": {
    "collapsed": true
   },
   "outputs": [],
   "source": []
  }
 ],
 "metadata": {
  "kernelspec": {
   "display_name": "Python 2",
   "language": "python",
   "name": "python2"
  },
  "language_info": {
   "codemirror_mode": {
    "name": "ipython",
    "version": 2
   },
   "file_extension": ".py",
   "mimetype": "text/x-python",
   "name": "python",
   "nbconvert_exporter": "python",
   "pygments_lexer": "ipython2",
   "version": "2.7.6"
  }
 },
 "nbformat": 4,
 "nbformat_minor": 0
}
